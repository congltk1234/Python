{
  "nbformat": 4,
  "nbformat_minor": 0,
  "metadata": {
    "colab": {
      "name": "numpy",
      "provenance": [],
      "authorship_tag": "ABX9TyMCQgPTbYl8EroXMxENWx6T",
      "include_colab_link": true
    },
    "kernelspec": {
      "name": "python3",
      "display_name": "Python 3"
    }
  },
  "cells": [
    {
      "cell_type": "markdown",
      "metadata": {
        "id": "view-in-github",
        "colab_type": "text"
      },
      "source": [
        "<a href=\"https://colab.research.google.com/github/congltk1234/Python/blob/master/numpy.ipynb\" target=\"_parent\"><img src=\"https://colab.research.google.com/assets/colab-badge.svg\" alt=\"Open In Colab\"/></a>"
      ]
    },
    {
      "cell_type": "markdown",
      "metadata": {
        "id": "ywLKXwyYIKtH"
      },
      "source": [
        "#**Numpy**"
      ]
    },
    {
      "cell_type": "code",
      "metadata": {
        "id": "cLVZk0NBIO5y"
      },
      "source": [
        "import numpy as np"
      ],
      "execution_count": 2,
      "outputs": []
    },
    {
      "cell_type": "markdown",
      "metadata": {
        "id": "rgS7vbnrIOqe"
      },
      "source": [
        "#I. **Vector & Matrix:**"
      ]
    },
    {
      "cell_type": "markdown",
      "metadata": {
        "id": "d7Q-PIr1GYZg"
      },
      "source": [
        "1. Sử dụng Numpy để tạo mảng:"
      ]
    },
    {
      "cell_type": "code",
      "metadata": {
        "id": "1A_V9rOCIh0x",
        "colab": {
          "base_uri": "https://localhost:8080/"
        },
        "outputId": "29ce468f-88c7-4137-8d7c-7a3806bc5c91"
      },
      "source": [
        "'''\r\n",
        "np.array(object, dtype = None, copy = True, order = ‘K’, subok = False, ndmin = 0))\r\n",
        "Trong đó dtype sẽ tự động xác định kiểu dữ liệu truyền vào\r\n",
        "'''\r\n",
        "x = np.array([1, 2, 3])\r\n",
        "print(x,'\\n-----')\r\n",
        "\r\n",
        "y = np.array([1, 2, 3, 'abc'])\r\n",
        "print(y,'\\n------')\r\n",
        "\r\n",
        "# mảng 2 chiều\r\n",
        "ar2 = np.array([[1, 2, 3], [4, 5, 6]])\r\n",
        "print(ar2,'\\n------')"
      ],
      "execution_count": 20,
      "outputs": [
        {
          "output_type": "stream",
          "text": [
            "[1 2 3] \n",
            "-----\n",
            "['1' '2' '3' 'abc'] \n",
            "------\n",
            "[[1 2 3]\n",
            " [4 5 6]] \n",
            "------\n"
          ],
          "name": "stdout"
        }
      ]
    },
    {
      "cell_type": "code",
      "metadata": {
        "id": "7cKqiRwvUZ-H",
        "colab": {
          "base_uri": "https://localhost:8080/"
        },
        "outputId": "e9cac056-962f-48cf-f8be-38e7e4e71ff4"
      },
      "source": [
        "# mảng 3 chiều\r\n",
        "#Hàm np.arange(<start>, <stop>, <step>)\r\n",
        "ar3 = np.arange(0,45,3).reshape(3, 5)   \r\n",
        "print(ar3)"
      ],
      "execution_count": 22,
      "outputs": [
        {
          "output_type": "stream",
          "text": [
            "[[ 0  3  6  9 12]\n",
            " [15 18 21 24 27]\n",
            " [30 33 36 39 42]]\n"
          ],
          "name": "stdout"
        }
      ]
    },
    {
      "cell_type": "code",
      "metadata": {
        "colab": {
          "base_uri": "https://localhost:8080/"
        },
        "id": "CXEsaNoTJ3fe",
        "outputId": "9609e47c-4b10-4352-84fb-3a19369dcfcb"
      },
      "source": [
        "# tạo mảng 3 chiều gồm 5 phần tử có giá trị 1:\r\n",
        "#numpy.ones(shape, dtype=None, order='C')[source]\r\n",
        "arr0 = np.ones((3,5))\r\n",
        "print(arr0)"
      ],
      "execution_count": 26,
      "outputs": [
        {
          "output_type": "stream",
          "text": [
            "[[1. 1. 1. 1. 1.]\n",
            " [1. 1. 1. 1. 1.]\n",
            " [1. 1. 1. 1. 1.]]\n"
          ],
          "name": "stdout"
        }
      ]
    },
    {
      "cell_type": "code",
      "metadata": {
        "colab": {
          "base_uri": "https://localhost:8080/"
        },
        "id": "isWyqBH7V9fl",
        "outputId": "968176df-31d3-42a5-b537-f53c7ffb5132"
      },
      "source": [
        "#Tạo mảng gồm các phần tử là số 0:\r\n",
        "\r\n",
        "#numpy.zeros(shape, dtype=float, order='C')\r\n",
        "a = np.zeros((5,), dtype=int)\r\n",
        "print(a)"
      ],
      "execution_count": 27,
      "outputs": [
        {
          "output_type": "stream",
          "text": [
            "[0 0 0 0 0]\n"
          ],
          "name": "stdout"
        }
      ]
    },
    {
      "cell_type": "code",
      "metadata": {
        "colab": {
          "base_uri": "https://localhost:8080/"
        },
        "id": "z3TvyxsJW0nu",
        "outputId": "7f96ec66-96b1-43f5-e1bd-38d555d80d6c"
      },
      "source": [
        "#tạo mảng 2 chiều gồm 5 phần tử có giá trị value:\r\n",
        "\r\n",
        "#numpy.full(shape, fill_value, dtype=None, order='C')\r\n",
        "value = 10\r\n",
        "aVal = np.full((2,5), value)\r\n",
        "print(aVal)"
      ],
      "execution_count": 29,
      "outputs": [
        {
          "output_type": "stream",
          "text": [
            "[[10 10 10 10 10]\n",
            " [10 10 10 10 10]]\n"
          ],
          "name": "stdout"
        }
      ]
    },
    {
      "cell_type": "code",
      "metadata": {
        "colab": {
          "base_uri": "https://localhost:8080/"
        },
        "id": "6d3KDabfXRND",
        "outputId": "25e9ba94-6ccb-4960-8646-74bcf16c18e9"
      },
      "source": [
        "# tạo ma trận đơn vị kích thước M3:\r\n",
        "arrIM = np.eye(3)\r\n",
        "print(arrIM)"
      ],
      "execution_count": 30,
      "outputs": [
        {
          "output_type": "stream",
          "text": [
            "[[1. 0. 0.]\n",
            " [0. 1. 0.]\n",
            " [0. 0. 1.]]\n"
          ],
          "name": "stdout"
        }
      ]
    },
    {
      "cell_type": "code",
      "metadata": {
        "colab": {
          "base_uri": "https://localhost:8080/"
        },
        "id": "Dp7agqSOXs0o",
        "outputId": "512ddf1e-f6ef-4c79-b0f2-6b2d56763f05"
      },
      "source": [
        "# tạo mảng 2 chiều có kích thước 2x3 với các phần tử sinh ngẫu nhiên trong khoảng (0,1):\r\n",
        "ar = np.random.random((2, 3))\r\n",
        "print(ar)"
      ],
      "execution_count": 32,
      "outputs": [
        {
          "output_type": "stream",
          "text": [
            "[[0.86855957 0.93575938 0.3523651 ]\n",
            " [0.76119815 0.01503162 0.69211849]]\n"
          ],
          "name": "stdout"
        }
      ]
    },
    {
      "cell_type": "markdown",
      "metadata": {
        "id": "S797vWlxYIuR"
      },
      "source": [
        "2. Thao tác với mảng:"
      ]
    },
    {
      "cell_type": "code",
      "metadata": {
        "colab": {
          "base_uri": "https://localhost:8080/"
        },
        "id": "ROvvhEPsYxSd",
        "outputId": "ad46d43e-0771-408e-ac82-d0d18ebeced8"
      },
      "source": [
        "ar3 = np.arange(0,60,3).reshape(4, 5)   \r\n",
        "print(ar3)"
      ],
      "execution_count": 50,
      "outputs": [
        {
          "output_type": "stream",
          "text": [
            "[[ 0  3  6  9 12]\n",
            " [15 18 21 24 27]\n",
            " [30 33 36 39 42]\n",
            " [45 48 51 54 57]]\n"
          ],
          "name": "stdout"
        }
      ]
    },
    {
      "cell_type": "code",
      "metadata": {
        "colab": {
          "base_uri": "https://localhost:8080/"
        },
        "id": "cNDe8Oa2YLLr",
        "outputId": "7ef0504c-0f19-471e-bd3f-0e0508315997"
      },
      "source": [
        "print(\"Kiểu dữ liệu của phần tử trong mảng:\", ar3.dtype)\r\n",
        "print(\"Kích thước của mảng:\", ar3.shape)\r\n",
        "print(\"Số phần tử trong mảng:\", ar3.size)\r\n",
        "print(\"Số chiều của mảng:\", ar3.ndim)"
      ],
      "execution_count": 44,
      "outputs": [
        {
          "output_type": "stream",
          "text": [
            "Kiểu dữ liệu của phần tử trong mảng: int64\n",
            "Kích thước của mảng: (4, 5)\n",
            "Số phần tử trong mảng: 20\n",
            "Số chiều của mảng: 2\n"
          ],
          "name": "stdout"
        }
      ]
    },
    {
      "cell_type": "markdown",
      "metadata": {
        "id": "1fe6VcrKYqbB"
      },
      "source": [
        "3. Truy cập phần tử trong mảng"
      ]
    },
    {
      "cell_type": "code",
      "metadata": {
        "colab": {
          "base_uri": "https://localhost:8080/"
        },
        "id": "rC79x_oFY0zj",
        "outputId": "f91ff20e-e7f7-4cb4-fe32-fa225e6211ce"
      },
      "source": [
        "print(\"ar3[2]=\", ar3[2],'\\n-----')\r\n",
        "print(\"ar3[1:2]=\", ar3[1,2],'\\n-----')\r\n",
        "print(\"ar3[0:3]=\", ar3[0:3],'\\n-----')\r\n",
        "print(\"ar3[:,:1]=\", ar3[:,:2],'\\n-----')"
      ],
      "execution_count": 61,
      "outputs": [
        {
          "output_type": "stream",
          "text": [
            "ar3[2]= [20 21 22 23 24 25 26 27 28 29] \n",
            "-----\n",
            "ar3[1:2]= 12 \n",
            "-----\n",
            "ar3[0:3]= [[ 0  1  2  3  4  5  6  7  8  9]\n",
            " [10 11 12 13 14 15 16 17 18 19]\n",
            " [20 21 22 23 24 25 26 27 28 29]] \n",
            "-----\n",
            "ar3[:,:1]= [[ 0  1]\n",
            " [10 11]\n",
            " [20 21]] \n",
            "-----\n"
          ],
          "name": "stdout"
        }
      ]
    },
    {
      "cell_type": "markdown",
      "metadata": {
        "id": "SrMy-rkGbp1a"
      },
      "source": [
        "#II. **Các phép tính toán với Matrix:**"
      ]
    },
    {
      "cell_type": "code",
      "metadata": {
        "id": "3KFbRpN_bwDv"
      },
      "source": [
        "A = np.array([[1,2,3], [4,5,6],[7,8,9]],int)\r\n",
        "B = np.eye(3, dtype=int)\r\n",
        "C = np.arange(0,45,3).reshape(3, 5)   "
      ],
      "execution_count": 73,
      "outputs": []
    },
    {
      "cell_type": "markdown",
      "metadata": {
        "id": "qrNk9eB8ch_t"
      },
      "source": [
        "1. Các phép tính cơ bản:"
      ]
    },
    {
      "cell_type": "code",
      "metadata": {
        "colab": {
          "base_uri": "https://localhost:8080/"
        },
        "id": "haKS-4aAchGm",
        "outputId": "2dd76c7c-1cc5-487a-f04c-a6e29105ca6a"
      },
      "source": [
        "#Tổng Matrix:\r\n",
        "sum = A + B\r\n",
        "print(C)"
      ],
      "execution_count": 69,
      "outputs": [
        {
          "output_type": "stream",
          "text": [
            "[[ 0  3  6  9 12]\n",
            " [15 18 21 24 27]\n",
            " [30 33 36 39 42]]\n"
          ],
          "name": "stdout"
        }
      ]
    },
    {
      "cell_type": "code",
      "metadata": {
        "colab": {
          "base_uri": "https://localhost:8080/"
        },
        "id": "Q6DwohVcdQDM",
        "outputId": "0c853fe1-0621-4551-efdc-79a484af98e2"
      },
      "source": [
        "#Tích 2 Ma trận:\r\n",
        "multi = A @ C\r\n",
        "print(multi)"
      ],
      "execution_count": 76,
      "outputs": [
        {
          "output_type": "stream",
          "text": [
            "[[ 6  6]\n",
            " [15 15]\n",
            " [24 24]]\n"
          ],
          "name": "stdout"
        }
      ]
    },
    {
      "cell_type": "markdown",
      "metadata": {
        "id": "63ykLYNGeHc1"
      },
      "source": [
        "2. Ma trận chuyển vị:"
      ]
    },
    {
      "cell_type": "code",
      "metadata": {
        "colab": {
          "base_uri": "https://localhost:8080/"
        },
        "id": "GeVn1qigd0y1",
        "outputId": "f084b1c0-fb9c-453c-9e9a-724e6c8389d1"
      },
      "source": [
        "#np.transpose(matrix)\r\n",
        "print('Ma trận chuyển vị của A:\\n',np.transpose(multi))"
      ],
      "execution_count": 79,
      "outputs": [
        {
          "output_type": "stream",
          "text": [
            "Ma trận chuyển vị của A:\n",
            " [[ 6 15 24]\n",
            " [ 6 15 24]]\n"
          ],
          "name": "stdout"
        }
      ]
    },
    {
      "cell_type": "markdown",
      "metadata": {
        "id": "Q1hrUvvyeXig"
      },
      "source": [
        "3. Ma trận nghịch đảo"
      ]
    },
    {
      "cell_type": "code",
      "metadata": {
        "id": "VBARIgvOecCd"
      },
      "source": [
        ""
      ],
      "execution_count": null,
      "outputs": []
    }
  ]
}